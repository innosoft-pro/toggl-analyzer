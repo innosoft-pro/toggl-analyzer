{
 "cells": [
  {
   "cell_type": "code",
   "execution_count": 14,
   "metadata": {
    "collapsed": true,
    "deletable": true,
    "editable": true
   },
   "outputs": [],
   "source": [
    "from collections import defaultdict\n",
    "import datetime\n",
    "import json\n",
    "import logging\n",
    "import sys\n",
    "\n",
    "import numpy as np\n",
    "import pandas as pd"
   ]
  },
  {
   "cell_type": "code",
   "execution_count": 3,
   "metadata": {
    "collapsed": true
   },
   "outputs": [],
   "source": [
    "sys.path.append('Toggl.py')"
   ]
  },
  {
   "cell_type": "code",
   "execution_count": 4,
   "metadata": {
    "collapsed": true
   },
   "outputs": [],
   "source": [
    "from toggl import Toggl\n",
    "import settings"
   ]
  },
  {
   "cell_type": "code",
   "execution_count": 5,
   "metadata": {
    "collapsed": true
   },
   "outputs": [],
   "source": [
    "# timeframe for report\n",
    "end_date = datetime.datetime.now()\n",
    "start_date = end_date - settings.timeframe"
   ]
  },
  {
   "cell_type": "code",
   "execution_count": 20,
   "metadata": {
    "collapsed": true
   },
   "outputs": [],
   "source": [
    "# create report\n",
    "report_builder = Toggl(settings.api_token)\n",
    "workspaces = report_builder.get_workspaces()\n",
    "\n",
    "reports = []"
   ]
  },
  {
   "cell_type": "code",
   "execution_count": 21,
   "metadata": {
    "collapsed": false
   },
   "outputs": [],
   "source": [
    "for ws_name, ws_id in workspaces:\n",
    "    if ws_name in settings.workspace2meta.keys():\n",
    "        metaproject = settings.workspace2meta[ws_name]\n",
    "\n",
    "        for record in report_builder.detailed_report(ws_id, start_date, end_date):\n",
    "            # record duration is in milliseconds\n",
    "            # divide by 3600000 to convert to hours\n",
    "            reports.append({\n",
    "                'user': record['user'],\n",
    "                'team': ws_name,\n",
    "                'project': metaproject,\n",
    "                'subproject': record['project'],\n",
    "                # example of record['start']: 2015-05-29T16:07:20+03:00\n",
    "                'start': record['start'][:19],\n",
    "                'duration': round(float(record['dur']) / 3600000, 2)\n",
    "            })"
   ]
  },
  {
   "cell_type": "code",
   "execution_count": 25,
   "metadata": {
    "collapsed": false
   },
   "outputs": [],
   "source": [
    "df = pd.DataFrame(reports)\n",
    "df['start'] = pd.to_datetime(df['start'])"
   ]
  },
  {
   "cell_type": "code",
   "execution_count": 26,
   "metadata": {
    "collapsed": false
   },
   "outputs": [
    {
     "data": {
      "text/html": [
       "<div>\n",
       "<table border=\"1\" class=\"dataframe\">\n",
       "  <thead>\n",
       "    <tr style=\"text-align: right;\">\n",
       "      <th></th>\n",
       "      <th>duration</th>\n",
       "      <th>project</th>\n",
       "      <th>start</th>\n",
       "      <th>subproject</th>\n",
       "      <th>team</th>\n",
       "      <th>user</th>\n",
       "    </tr>\n",
       "  </thead>\n",
       "  <tbody>\n",
       "    <tr>\n",
       "      <th>0</th>\n",
       "      <td>0.09</td>\n",
       "      <td>YORSO</td>\n",
       "      <td>2017-01-25 09:22:51</td>\n",
       "      <td>Прочее</td>\n",
       "      <td>YORSO</td>\n",
       "      <td>Stepan Nikiforov</td>\n",
       "    </tr>\n",
       "    <tr>\n",
       "      <th>1</th>\n",
       "      <td>0.82</td>\n",
       "      <td>YORSO</td>\n",
       "      <td>2017-01-25 09:30:50</td>\n",
       "      <td>WEB</td>\n",
       "      <td>YORSO</td>\n",
       "      <td>Igor Sakhankov</td>\n",
       "    </tr>\n",
       "    <tr>\n",
       "      <th>2</th>\n",
       "      <td>0.25</td>\n",
       "      <td>YORSO</td>\n",
       "      <td>2017-01-25 09:40:15</td>\n",
       "      <td>Прочее</td>\n",
       "      <td>YORSO</td>\n",
       "      <td>Stepan Nikiforov</td>\n",
       "    </tr>\n",
       "    <tr>\n",
       "      <th>3</th>\n",
       "      <td>0.21</td>\n",
       "      <td>YORSO</td>\n",
       "      <td>2017-01-25 10:00:03</td>\n",
       "      <td>Прочее</td>\n",
       "      <td>YORSO</td>\n",
       "      <td>Stepan Nikiforov</td>\n",
       "    </tr>\n",
       "    <tr>\n",
       "      <th>4</th>\n",
       "      <td>0.13</td>\n",
       "      <td>YORSO</td>\n",
       "      <td>2017-01-25 10:12:43</td>\n",
       "      <td>Прочее</td>\n",
       "      <td>YORSO</td>\n",
       "      <td>Stepan Nikiforov</td>\n",
       "    </tr>\n",
       "  </tbody>\n",
       "</table>\n",
       "</div>"
      ],
      "text/plain": [
       "   duration project               start subproject   team              user\n",
       "0      0.09   YORSO 2017-01-25 09:22:51     Прочее  YORSO  Stepan Nikiforov\n",
       "1      0.82   YORSO 2017-01-25 09:30:50        WEB  YORSO    Igor Sakhankov\n",
       "2      0.25   YORSO 2017-01-25 09:40:15     Прочее  YORSO  Stepan Nikiforov\n",
       "3      0.21   YORSO 2017-01-25 10:00:03     Прочее  YORSO  Stepan Nikiforov\n",
       "4      0.13   YORSO 2017-01-25 10:12:43     Прочее  YORSO  Stepan Nikiforov"
      ]
     },
     "execution_count": 26,
     "metadata": {},
     "output_type": "execute_result"
    }
   ],
   "source": [
    "df.head()"
   ]
  },
  {
   "cell_type": "code",
   "execution_count": 27,
   "metadata": {
    "collapsed": false
   },
   "outputs": [],
   "source": [
    "project_daily = df.set_index('start').groupby('project').resample('1D').sum()"
   ]
  },
  {
   "cell_type": "code",
   "execution_count": 36,
   "metadata": {
    "collapsed": false
   },
   "outputs": [
    {
     "data": {
      "text/html": [
       "<div>\n",
       "<table border=\"1\" class=\"dataframe\">\n",
       "  <thead>\n",
       "    <tr style=\"text-align: right;\">\n",
       "      <th></th>\n",
       "      <th></th>\n",
       "      <th>duration</th>\n",
       "    </tr>\n",
       "    <tr>\n",
       "      <th>project</th>\n",
       "      <th>start</th>\n",
       "      <th></th>\n",
       "    </tr>\n",
       "  </thead>\n",
       "  <tbody>\n",
       "    <tr>\n",
       "      <th rowspan=\"5\" valign=\"top\">YORSO</th>\n",
       "      <th>2017-01-25</th>\n",
       "      <td>20.77</td>\n",
       "    </tr>\n",
       "    <tr>\n",
       "      <th>2017-01-26</th>\n",
       "      <td>17.93</td>\n",
       "    </tr>\n",
       "    <tr>\n",
       "      <th>2017-01-27</th>\n",
       "      <td>13.27</td>\n",
       "    </tr>\n",
       "    <tr>\n",
       "      <th>2017-01-28</th>\n",
       "      <td>NaN</td>\n",
       "    </tr>\n",
       "    <tr>\n",
       "      <th>2017-01-29</th>\n",
       "      <td>2.30</td>\n",
       "    </tr>\n",
       "  </tbody>\n",
       "</table>\n",
       "</div>"
      ],
      "text/plain": [
       "                    duration\n",
       "project start               \n",
       "YORSO   2017-01-25     20.77\n",
       "        2017-01-26     17.93\n",
       "        2017-01-27     13.27\n",
       "        2017-01-28       NaN\n",
       "        2017-01-29      2.30"
      ]
     },
     "execution_count": 36,
     "metadata": {},
     "output_type": "execute_result"
    }
   ],
   "source": [
    "project_daily.head()"
   ]
  },
  {
   "cell_type": "code",
   "execution_count": 40,
   "metadata": {
    "collapsed": false
   },
   "outputs": [
    {
     "data": {
      "text/plain": [
       "start\n",
       "2017-01-25    12.11\n",
       "2017-01-26    17.65\n",
       "2017-01-27    13.02\n",
       "2017-01-28     5.67\n",
       "2017-01-29     2.62\n",
       "2017-01-30    17.04\n",
       "2017-01-31    17.47\n",
       "2017-02-01    13.72\n",
       "Freq: D, Name: duration, dtype: float64"
      ]
     },
     "execution_count": 40,
     "metadata": {},
     "output_type": "execute_result"
    }
   ],
   "source": [
    "project_daily.loc[u\"Минимакс\"]['duration']"
   ]
  },
  {
   "cell_type": "code",
   "execution_count": 50,
   "metadata": {
    "collapsed": false
   },
   "outputs": [
    {
     "data": {
      "text/plain": [
       "'[12.110000000000001, 17.65, 13.019999999999998, 5.67, 2.62, 17.040000000000006, 17.469999999999995, 13.719999999999999]'"
      ]
     },
     "execution_count": 50,
     "metadata": {},
     "output_type": "execute_result"
    }
   ],
   "source": [
    "json.dumps(project_daily.loc[u\"Минимакс\"]['duration'].values.tolist())"
   ]
  },
  {
   "cell_type": "code",
   "execution_count": 51,
   "metadata": {
    "collapsed": true
   },
   "outputs": [],
   "source": [
    "user_daily = df.set_index('start').groupby('user').resample('1D').sum()"
   ]
  },
  {
   "cell_type": "code",
   "execution_count": 52,
   "metadata": {
    "collapsed": false
   },
   "outputs": [
    {
     "data": {
      "text/html": [
       "<div>\n",
       "<table border=\"1\" class=\"dataframe\">\n",
       "  <thead>\n",
       "    <tr style=\"text-align: right;\">\n",
       "      <th></th>\n",
       "      <th></th>\n",
       "      <th>duration</th>\n",
       "    </tr>\n",
       "    <tr>\n",
       "      <th>user</th>\n",
       "      <th>start</th>\n",
       "      <th></th>\n",
       "    </tr>\n",
       "  </thead>\n",
       "  <tbody>\n",
       "    <tr>\n",
       "      <th rowspan=\"5\" valign=\"top\">Aleksandr Shepelev</th>\n",
       "      <th>2017-01-25</th>\n",
       "      <td>3.06</td>\n",
       "    </tr>\n",
       "    <tr>\n",
       "      <th>2017-01-26</th>\n",
       "      <td>4.95</td>\n",
       "    </tr>\n",
       "    <tr>\n",
       "      <th>2017-01-27</th>\n",
       "      <td>3.45</td>\n",
       "    </tr>\n",
       "    <tr>\n",
       "      <th>2017-01-28</th>\n",
       "      <td>2.86</td>\n",
       "    </tr>\n",
       "    <tr>\n",
       "      <th>2017-01-29</th>\n",
       "      <td>2.62</td>\n",
       "    </tr>\n",
       "  </tbody>\n",
       "</table>\n",
       "</div>"
      ],
      "text/plain": [
       "                               duration\n",
       "user               start               \n",
       "Aleksandr Shepelev 2017-01-25      3.06\n",
       "                   2017-01-26      4.95\n",
       "                   2017-01-27      3.45\n",
       "                   2017-01-28      2.86\n",
       "                   2017-01-29      2.62"
      ]
     },
     "execution_count": 52,
     "metadata": {},
     "output_type": "execute_result"
    }
   ],
   "source": [
    "user_daily.head()"
   ]
  },
  {
   "cell_type": "code",
   "execution_count": 58,
   "metadata": {
    "collapsed": false
   },
   "outputs": [],
   "source": [
    "dti = user_daily.index.get_level_values(1).unique()"
   ]
  },
  {
   "cell_type": "code",
   "execution_count": 64,
   "metadata": {
    "collapsed": false
   },
   "outputs": [
    {
     "data": {
      "text/plain": [
       "array([datetime.date(2017, 1, 25), datetime.date(2017, 1, 26),\n",
       "       datetime.date(2017, 1, 27), datetime.date(2017, 1, 28),\n",
       "       datetime.date(2017, 1, 29), datetime.date(2017, 1, 30),\n",
       "       datetime.date(2017, 1, 31), datetime.date(2017, 2, 1)], dtype=object)"
      ]
     },
     "execution_count": 64,
     "metadata": {},
     "output_type": "execute_result"
    }
   ],
   "source": [
    "dti.map(lambda x: x.date())"
   ]
  },
  {
   "cell_type": "code",
   "execution_count": 68,
   "metadata": {
    "collapsed": false
   },
   "outputs": [
    {
     "data": {
      "text/plain": [
       "'[\"2017-01-25\", \"2017-01-26\", \"2017-01-27\", \"2017-01-28\", \"2017-01-29\", \"2017-01-30\", \"2017-01-31\", \"2017-02-01\"]'"
      ]
     },
     "execution_count": 68,
     "metadata": {},
     "output_type": "execute_result"
    }
   ],
   "source": [
    "json.dumps(dti.map(lambda x: str(x.date())).tolist())"
   ]
  },
  {
   "cell_type": "code",
   "execution_count": 66,
   "metadata": {
    "collapsed": true
   },
   "outputs": [],
   "source": [
    "tmp = dti[0].date()"
   ]
  },
  {
   "cell_type": "code",
   "execution_count": 67,
   "metadata": {
    "collapsed": false
   },
   "outputs": [
    {
     "data": {
      "text/plain": [
       "'2017-01-25'"
      ]
     },
     "execution_count": 67,
     "metadata": {},
     "output_type": "execute_result"
    }
   ],
   "source": [
    "str(tmp)"
   ]
  }
 ],
 "metadata": {
  "kernelspec": {
   "display_name": "Python 2",
   "language": "python",
   "name": "python2"
  },
  "language_info": {
   "codemirror_mode": {
    "name": "ipython",
    "version": 2
   },
   "file_extension": ".py",
   "mimetype": "text/x-python",
   "name": "python",
   "nbconvert_exporter": "python",
   "pygments_lexer": "ipython2",
   "version": "2.7.12"
  }
 },
 "nbformat": 4,
 "nbformat_minor": 2
}
